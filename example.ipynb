{
 "cells": [
  {
   "cell_type": "code",
   "execution_count": 1,
   "metadata": {},
   "outputs": [],
   "source": [
    "import geopandas as gpd\n",
    "from GreenExp import availability, accessibility, visibility"
   ]
  },
  {
   "cell_type": "code",
   "execution_count": 2,
   "metadata": {},
   "outputs": [],
   "source": [
    "# Test data\n",
    "test_path = \"C:/Users/ygrin/Documents/Studie - MSc ADS/Utrecht University/Block 4 - Thesis/TestData/\"\n",
    "test_results_path = \"C:/Users/ygrin/Documents/Studie - MSc ADS/Utrecht University/Block 4 - Thesis/TestData/Results/\"\n",
    "multi_point = gpd.read_file(test_path + \"Test_multiple_home_locations.gpkg\")"
   ]
  },
  {
   "cell_type": "code",
   "execution_count": 3,
   "metadata": {},
   "outputs": [
    {
     "data": {
      "text/html": [
       "<div>\n",
       "<style scoped>\n",
       "    .dataframe tbody tr th:only-of-type {\n",
       "        vertical-align: middle;\n",
       "    }\n",
       "\n",
       "    .dataframe tbody tr th {\n",
       "        vertical-align: top;\n",
       "    }\n",
       "\n",
       "    .dataframe thead th {\n",
       "        text-align: right;\n",
       "    }\n",
       "</style>\n",
       "<table border=\"1\" class=\"dataframe\">\n",
       "  <thead>\n",
       "    <tr style=\"text-align: right;\">\n",
       "      <th></th>\n",
       "      <th>id</th>\n",
       "      <th>geometry</th>\n",
       "    </tr>\n",
       "  </thead>\n",
       "  <tbody>\n",
       "    <tr>\n",
       "      <th>0</th>\n",
       "      <td>NaN</td>\n",
       "      <td>POINT (388644.249 392861.634)</td>\n",
       "    </tr>\n",
       "    <tr>\n",
       "      <th>1</th>\n",
       "      <td>NaN</td>\n",
       "      <td>POINT (385981.911 393805.494)</td>\n",
       "    </tr>\n",
       "    <tr>\n",
       "      <th>2</th>\n",
       "      <td>NaN</td>\n",
       "      <td>POINT (388631.230 395322.181)</td>\n",
       "    </tr>\n",
       "  </tbody>\n",
       "</table>\n",
       "</div>"
      ],
      "text/plain": [
       "   id                       geometry\n",
       "0 NaN  POINT (388644.249 392861.634)\n",
       "1 NaN  POINT (385981.911 393805.494)\n",
       "2 NaN  POINT (388631.230 395322.181)"
      ]
     },
     "execution_count": 3,
     "metadata": {},
     "output_type": "execute_result"
    }
   ],
   "source": [
    "# Geodataframe contents\n",
    "multi_point"
   ]
  },
  {
   "attachments": {},
   "cell_type": "markdown",
   "metadata": {},
   "source": [
    "# Availability"
   ]
  },
  {
   "cell_type": "code",
   "execution_count": 4,
   "metadata": {},
   "outputs": [
    {
     "name": "stdout",
     "output_type": "stream",
     "text": [
      "Retrieving NDVI raster through planetary computer...\n",
      "Done, running time: 0:00:07.181640 \n",
      "\n",
      "Retrieving network within total bounds of point(s) of interest, extended by buffer distance as specified...\n",
      "Done, running time: 0:00:17.580765 \n",
      "\n"
     ]
    },
    {
     "name": "stderr",
     "output_type": "stream",
     "text": [
      "Retrieving isochrone for point(s) of interest: 100%|██████████| 3/3 [00:06<00:00,  2.19s/it]\n"
     ]
    },
    {
     "name": "stdout",
     "output_type": "stream",
     "text": [
      "Note: creation of isochrones based on code by gboeing, source: https://github.com/gboeing/osmnx-examples/blob/main/notebooks/13-isolines-isochrones.ipynb \n",
      "\n",
      "Calculating mean NDVI values...\n",
      "Done, running time: 0:00:00.417124 \n",
      "\n",
      "Writing results to new geopackage file in specified directory...\n",
      "Done\n"
     ]
    },
    {
     "data": {
      "text/html": [
       "<div>\n",
       "<style scoped>\n",
       "    .dataframe tbody tr th:only-of-type {\n",
       "        vertical-align: middle;\n",
       "    }\n",
       "\n",
       "    .dataframe tbody tr th {\n",
       "        vertical-align: top;\n",
       "    }\n",
       "\n",
       "    .dataframe thead th {\n",
       "        text-align: right;\n",
       "    }\n",
       "</style>\n",
       "<table border=\"1\" class=\"dataframe\">\n",
       "  <thead>\n",
       "    <tr style=\"text-align: right;\">\n",
       "      <th></th>\n",
       "      <th>id</th>\n",
       "      <th>geometry</th>\n",
       "      <th>mean_NDVI</th>\n",
       "    </tr>\n",
       "  </thead>\n",
       "  <tbody>\n",
       "    <tr>\n",
       "      <th>0</th>\n",
       "      <td>1</td>\n",
       "      <td>POINT (388644.249 392861.634)</td>\n",
       "      <td>0.246</td>\n",
       "    </tr>\n",
       "    <tr>\n",
       "      <th>1</th>\n",
       "      <td>2</td>\n",
       "      <td>POINT (385981.911 393805.494)</td>\n",
       "      <td>0.208</td>\n",
       "    </tr>\n",
       "    <tr>\n",
       "      <th>2</th>\n",
       "      <td>3</td>\n",
       "      <td>POINT (388631.230 395322.181)</td>\n",
       "      <td>0.263</td>\n",
       "    </tr>\n",
       "  </tbody>\n",
       "</table>\n",
       "</div>"
      ],
      "text/plain": [
       "   id                       geometry  mean_NDVI\n",
       "0   1  POINT (388644.249 392861.634)      0.246\n",
       "1   2  POINT (385981.911 393805.494)      0.208\n",
       "2   3  POINT (388631.230 395322.181)      0.263"
      ]
     },
     "execution_count": 4,
     "metadata": {},
     "output_type": "execute_result"
    }
   ],
   "source": [
    "# NDVI\n",
    "availability.get_mean_NDVI(point_of_interest_file=test_path+\"Test_multiple_home_locations.gpkg\",\n",
    "                           buffer_type=\"network\",\n",
    "                           buffer_dist=500,\n",
    "                           travel_speed=5,\n",
    "                           trip_time=15,\n",
    "                           network_type=\"walk\",\n",
    "                           output_dir=test_results_path)"
   ]
  },
  {
   "cell_type": "code",
   "execution_count": 5,
   "metadata": {},
   "outputs": [
    {
     "name": "stdout",
     "output_type": "stream",
     "text": [
      "Calculating landcover class percentages...\n",
      "Done, running time: 0:00:00.764711 \n",
      "\n",
      "Writing results to new geopackage file in specified directory...\n",
      "Done\n"
     ]
    },
    {
     "data": {
      "text/html": [
       "<div>\n",
       "<style scoped>\n",
       "    .dataframe tbody tr th:only-of-type {\n",
       "        vertical-align: middle;\n",
       "    }\n",
       "\n",
       "    .dataframe tbody tr th {\n",
       "        vertical-align: top;\n",
       "    }\n",
       "\n",
       "    .dataframe thead th {\n",
       "        text-align: right;\n",
       "    }\n",
       "</style>\n",
       "<table border=\"1\" class=\"dataframe\">\n",
       "  <thead>\n",
       "    <tr style=\"text-align: right;\">\n",
       "      <th></th>\n",
       "      <th>id</th>\n",
       "      <th>geometry</th>\n",
       "      <th>class_0</th>\n",
       "      <th>class_1001</th>\n",
       "      <th>class_1002</th>\n",
       "      <th>class_1003</th>\n",
       "      <th>class_1004</th>\n",
       "      <th>class_1005</th>\n",
       "      <th>class_1101</th>\n",
       "      <th>class_1103</th>\n",
       "      <th>...</th>\n",
       "      <th>class_1404</th>\n",
       "      <th>class_1405</th>\n",
       "      <th>class_2001</th>\n",
       "      <th>class_2003</th>\n",
       "      <th>class_2004</th>\n",
       "      <th>class_2005</th>\n",
       "      <th>class_1501</th>\n",
       "      <th>class_1502</th>\n",
       "      <th>class_1503</th>\n",
       "      <th>class_1504</th>\n",
       "    </tr>\n",
       "  </thead>\n",
       "  <tbody>\n",
       "    <tr>\n",
       "      <th>0</th>\n",
       "      <td>1</td>\n",
       "      <td>POINT (388644.249 392861.634)</td>\n",
       "      <td>21.62%</td>\n",
       "      <td>12.16%</td>\n",
       "      <td>0.01%</td>\n",
       "      <td>2.48%</td>\n",
       "      <td>1.07%</td>\n",
       "      <td>2.64%</td>\n",
       "      <td>0.23%</td>\n",
       "      <td>1.39%</td>\n",
       "      <td>...</td>\n",
       "      <td>0.3%</td>\n",
       "      <td>0.59%</td>\n",
       "      <td>0.04%</td>\n",
       "      <td>0.06%</td>\n",
       "      <td>0.06%</td>\n",
       "      <td>0.06%</td>\n",
       "      <td>NaN</td>\n",
       "      <td>NaN</td>\n",
       "      <td>NaN</td>\n",
       "      <td>NaN</td>\n",
       "    </tr>\n",
       "    <tr>\n",
       "      <th>1</th>\n",
       "      <td>2</td>\n",
       "      <td>POINT (385981.911 393805.494)</td>\n",
       "      <td>21.54%</td>\n",
       "      <td>21.43%</td>\n",
       "      <td>0.02%</td>\n",
       "      <td>2.43%</td>\n",
       "      <td>1.21%</td>\n",
       "      <td>4.69%</td>\n",
       "      <td>5.52%</td>\n",
       "      <td>5.83%</td>\n",
       "      <td>...</td>\n",
       "      <td>0.79%</td>\n",
       "      <td>4.72%</td>\n",
       "      <td>0.5%</td>\n",
       "      <td>0.07%</td>\n",
       "      <td>0.12%</td>\n",
       "      <td>0.08%</td>\n",
       "      <td>0.11%</td>\n",
       "      <td>0.01%</td>\n",
       "      <td>0.02%</td>\n",
       "      <td>0.01%</td>\n",
       "    </tr>\n",
       "    <tr>\n",
       "      <th>2</th>\n",
       "      <td>3</td>\n",
       "      <td>POINT (388631.230 395322.181)</td>\n",
       "      <td>21.62%</td>\n",
       "      <td>15.18%</td>\n",
       "      <td>NaN</td>\n",
       "      <td>1.58%</td>\n",
       "      <td>2.15%</td>\n",
       "      <td>2.37%</td>\n",
       "      <td>0.47%</td>\n",
       "      <td>4.29%</td>\n",
       "      <td>...</td>\n",
       "      <td>1.13%</td>\n",
       "      <td>0.48%</td>\n",
       "      <td>0.23%</td>\n",
       "      <td>0.04%</td>\n",
       "      <td>0.09%</td>\n",
       "      <td>0.06%</td>\n",
       "      <td>NaN</td>\n",
       "      <td>NaN</td>\n",
       "      <td>NaN</td>\n",
       "      <td>NaN</td>\n",
       "    </tr>\n",
       "  </tbody>\n",
       "</table>\n",
       "<p>3 rows × 34 columns</p>\n",
       "</div>"
      ],
      "text/plain": [
       "   id                       geometry class_0 class_1001 class_1002 class_1003  \\\n",
       "0   1  POINT (388644.249 392861.634)  21.62%     12.16%      0.01%      2.48%   \n",
       "1   2  POINT (385981.911 393805.494)  21.54%     21.43%      0.02%      2.43%   \n",
       "2   3  POINT (388631.230 395322.181)  21.62%     15.18%        NaN      1.58%   \n",
       "\n",
       "  class_1004 class_1005 class_1101 class_1103  ... class_1404 class_1405  \\\n",
       "0      1.07%      2.64%      0.23%      1.39%  ...       0.3%      0.59%   \n",
       "1      1.21%      4.69%      5.52%      5.83%  ...      0.79%      4.72%   \n",
       "2      2.15%      2.37%      0.47%      4.29%  ...      1.13%      0.48%   \n",
       "\n",
       "  class_2001 class_2003 class_2004 class_2005 class_1501 class_1502  \\\n",
       "0      0.04%      0.06%      0.06%      0.06%        NaN        NaN   \n",
       "1       0.5%      0.07%      0.12%      0.08%      0.11%      0.01%   \n",
       "2      0.23%      0.04%      0.09%      0.06%        NaN        NaN   \n",
       "\n",
       "  class_1503 class_1504  \n",
       "0        NaN        NaN  \n",
       "1      0.02%      0.01%  \n",
       "2        NaN        NaN  \n",
       "\n",
       "[3 rows x 34 columns]"
      ]
     },
     "execution_count": 5,
     "metadata": {},
     "output_type": "execute_result"
    }
   ],
   "source": [
    "# Land cover class percentages\n",
    "availability.get_landcover_percentages(point_of_interest_file=test_path+\"Test_multiple_home_locations.gpkg\",\n",
    "                                       landcover_raster_file=test_path+\"Landcover_data_test.tif\",\n",
    "                                       buffer_dist=500,\n",
    "                                       buffer_type=\"euclidian\",\n",
    "                                       output_dir=test_results_path)"
   ]
  },
  {
   "cell_type": "code",
   "execution_count": 6,
   "metadata": {},
   "outputs": [
    {
     "name": "stdout",
     "output_type": "stream",
     "text": [
      "Retrieving network within total bounds of point(s) of interest, extended by buffer distance as specified...\n",
      "Done, running time: 0:00:07.162638 \n",
      "\n"
     ]
    },
    {
     "name": "stderr",
     "output_type": "stream",
     "text": [
      "Retrieving isochrone for point(s) of interest: 100%|██████████| 1/1 [00:00<00:00,  1.03it/s]\n"
     ]
    },
    {
     "name": "stdout",
     "output_type": "stream",
     "text": [
      "Note: creation of isochrones based on code by gboeing, source: https://github.com/gboeing/osmnx-examples/blob/main/notebooks/13-isolines-isochrones.ipynb \n",
      "\n",
      "Calculating percentage of tree canopy coverage...\n",
      "Warning: Not all buffer zones for the Points of Interest are completely within the area covered by the tree canopy file, note that results will be based on the intersecting part of the buffer zone\n",
      "Done, running time: 0:00:01.138131 \n",
      "\n",
      "Writing results to new geopackage file in specified directory...\n",
      "Done\n"
     ]
    },
    {
     "data": {
      "text/html": [
       "<div>\n",
       "<style scoped>\n",
       "    .dataframe tbody tr th:only-of-type {\n",
       "        vertical-align: middle;\n",
       "    }\n",
       "\n",
       "    .dataframe tbody tr th {\n",
       "        vertical-align: top;\n",
       "    }\n",
       "\n",
       "    .dataframe thead th {\n",
       "        text-align: right;\n",
       "    }\n",
       "</style>\n",
       "<table border=\"1\" class=\"dataframe\">\n",
       "  <thead>\n",
       "    <tr style=\"text-align: right;\">\n",
       "      <th></th>\n",
       "      <th>id</th>\n",
       "      <th>geometry</th>\n",
       "      <th>canopy_cover</th>\n",
       "    </tr>\n",
       "  </thead>\n",
       "  <tbody>\n",
       "    <tr>\n",
       "      <th>0</th>\n",
       "      <td>1</td>\n",
       "      <td>POINT (387164.991 394443.414)</td>\n",
       "      <td>16.78%</td>\n",
       "    </tr>\n",
       "  </tbody>\n",
       "</table>\n",
       "</div>"
      ],
      "text/plain": [
       "   id                       geometry canopy_cover\n",
       "0   1  POINT (387164.991 394443.414)       16.78%"
      ]
     },
     "execution_count": 6,
     "metadata": {},
     "output_type": "execute_result"
    }
   ],
   "source": [
    "# Canopy coverage\n",
    "availability.get_canopy_percentage(point_of_interest_file=test_path+\"Test_single_home_location.gpkg\",\n",
    "                                   canopy_vector_file=test_path+\"Canopy_single_home_500m.gpkg\",\n",
    "                                   buffer_dist=500,\n",
    "                                   buffer_type=\"network\",\n",
    "                                   travel_speed=15,\n",
    "                                   trip_time=10,\n",
    "                                   network_type=\"bike\",\n",
    "                                   output_dir=test_results_path)"
   ]
  },
  {
   "cell_type": "code",
   "execution_count": 7,
   "metadata": {},
   "outputs": [
    {
     "name": "stdout",
     "output_type": "stream",
     "text": [
      "Retrieving parks within total bounds of Point(s) of interest, extended by buffer distance if specified...\n",
      "Done, running time: 0:00:05.033949 \n",
      "\n",
      "Retrieving network within total bounds of Point(s) of interest, extended by buffer distance as specified...\n",
      "Done, running time: 0:00:02.524874 \n",
      "\n"
     ]
    },
    {
     "name": "stderr",
     "output_type": "stream",
     "text": [
      "Retrieving isochrone for point(s) of interest: 100%|██████████| 1/1 [00:01<00:00,  1.18s/it]\n",
      "c:\\Users\\ygrin\\anaconda3\\envs\\spatial\\lib\\site-packages\\geopandas\\tools\\clip.py:67: DeprecationWarning: In a future version, `df.iloc[:, i] = newvals` will attempt to set the values inplace instead of always setting a new array. To retain the old behavior, use either `df[df.columns[i]] = newvals` or, if columns are non-unique, `df.isetitem(i, newvals)`\n",
      "  clipped.loc[\n"
     ]
    },
    {
     "name": "stdout",
     "output_type": "stream",
     "text": [
      "Note: creation of isochrones based on code by gboeing, source: https://github.com/gboeing/osmnx-examples/blob/main/notebooks/13-isolines-isochrones.ipynb \n",
      "\n",
      "Calculating percentage of park area coverage...\n",
      "Warning: Not all buffer zones for the Points of Interest are completely within the area covered by the park file, note that results will be based on the intersecting part of the buffer zone\n",
      "Done, running time: 0:00:00.027237 \n",
      "\n",
      "Writing results to new geopackage file in specified directory...\n",
      "Done\n"
     ]
    },
    {
     "data": {
      "text/html": [
       "<div>\n",
       "<style scoped>\n",
       "    .dataframe tbody tr th:only-of-type {\n",
       "        vertical-align: middle;\n",
       "    }\n",
       "\n",
       "    .dataframe tbody tr th {\n",
       "        vertical-align: top;\n",
       "    }\n",
       "\n",
       "    .dataframe thead th {\n",
       "        text-align: right;\n",
       "    }\n",
       "</style>\n",
       "<table border=\"1\" class=\"dataframe\">\n",
       "  <thead>\n",
       "    <tr style=\"text-align: right;\">\n",
       "      <th></th>\n",
       "      <th>id</th>\n",
       "      <th>geometry</th>\n",
       "      <th>park_cover</th>\n",
       "    </tr>\n",
       "  </thead>\n",
       "  <tbody>\n",
       "    <tr>\n",
       "      <th>0</th>\n",
       "      <td>1</td>\n",
       "      <td>POINT (387164.991 394443.414)</td>\n",
       "      <td>1.06%</td>\n",
       "    </tr>\n",
       "  </tbody>\n",
       "</table>\n",
       "</div>"
      ],
      "text/plain": [
       "   id                       geometry park_cover\n",
       "0   1  POINT (387164.991 394443.414)      1.06%"
      ]
     },
     "execution_count": 7,
     "metadata": {},
     "output_type": "execute_result"
    }
   ],
   "source": [
    "# Park area coverage\n",
    "availability.get_park_percentage(point_of_interest_file=test_path+\"Test_single_home_location.gpkg\",\n",
    "                                 buffer_dist=500,\n",
    "                                 buffer_type=\"network\",\n",
    "                                 travel_speed=15,\n",
    "                                 trip_time=10,\n",
    "                                 network_type=\"bike\",\n",
    "                                 output_dir=test_results_path)"
   ]
  },
  {
   "attachments": {},
   "cell_type": "markdown",
   "metadata": {},
   "source": [
    "# Accessibility"
   ]
  },
  {
   "cell_type": "code",
   "execution_count": 8,
   "metadata": {},
   "outputs": [
    {
     "name": "stdout",
     "output_type": "stream",
     "text": [
      "Retrieving parks within total bounds of point(s) of interest, extended by a 750.0m buffer to account for edge effects...\n",
      "Done, running time: 0:00:04.355705 \n",
      "\n",
      "Retrieving infrastructure network within total bounds of point(s) of interest, extended by a 750.0m buffer to account for edge effects...\n",
      "Done, running time: 0:00:17.066823 \n",
      "\n",
      "Calculating shortest distances...\n"
     ]
    },
    {
     "name": "stderr",
     "output_type": "stream",
     "text": [
      "c:\\Users\\ygrin\\anaconda3\\envs\\spatial\\lib\\site-packages\\geopandas\\tools\\clip.py:67: DeprecationWarning: In a future version, `df.iloc[:, i] = newvals` will attempt to set the values inplace instead of always setting a new array. To retain the old behavior, use either `df[df.columns[i]] = newvals` or, if columns are non-unique, `df.isetitem(i, newvals)`\n",
      "  clipped.loc[\n",
      "c:\\Users\\ygrin\\anaconda3\\envs\\spatial\\lib\\site-packages\\geopandas\\tools\\clip.py:67: DeprecationWarning: In a future version, `df.iloc[:, i] = newvals` will attempt to set the values inplace instead of always setting a new array. To retain the old behavior, use either `df[df.columns[i]] = newvals` or, if columns are non-unique, `df.isetitem(i, newvals)`\n",
      "  clipped.loc[\n",
      "c:\\Users\\ygrin\\anaconda3\\envs\\spatial\\lib\\site-packages\\geopandas\\tools\\clip.py:67: DeprecationWarning: In a future version, `df.iloc[:, i] = newvals` will attempt to set the values inplace instead of always setting a new array. To retain the old behavior, use either `df[df.columns[i]] = newvals` or, if columns are non-unique, `df.isetitem(i, newvals)`\n",
      "  clipped.loc[\n"
     ]
    },
    {
     "name": "stdout",
     "output_type": "stream",
     "text": [
      "Done, running time: 0:00:01.438834 \n",
      "\n",
      "Writing results to new geopackage file in specified directory...\n",
      "Done\n"
     ]
    },
    {
     "data": {
      "text/html": [
       "<div>\n",
       "<style scoped>\n",
       "    .dataframe tbody tr th:only-of-type {\n",
       "        vertical-align: middle;\n",
       "    }\n",
       "\n",
       "    .dataframe tbody tr th {\n",
       "        vertical-align: top;\n",
       "    }\n",
       "\n",
       "    .dataframe thead th {\n",
       "        text-align: right;\n",
       "    }\n",
       "</style>\n",
       "<table border=\"1\" class=\"dataframe\">\n",
       "  <thead>\n",
       "    <tr style=\"text-align: right;\">\n",
       "      <th></th>\n",
       "      <th>id</th>\n",
       "      <th>geometry</th>\n",
       "      <th>park_within_500m</th>\n",
       "      <th>distance_to_park</th>\n",
       "    </tr>\n",
       "  </thead>\n",
       "  <tbody>\n",
       "    <tr>\n",
       "      <th>0</th>\n",
       "      <td>1</td>\n",
       "      <td>POINT (388644.249 392861.634)</td>\n",
       "      <td>True</td>\n",
       "      <td>287.0</td>\n",
       "    </tr>\n",
       "    <tr>\n",
       "      <th>1</th>\n",
       "      <td>2</td>\n",
       "      <td>POINT (385981.911 393805.494)</td>\n",
       "      <td>True</td>\n",
       "      <td>123.0</td>\n",
       "    </tr>\n",
       "    <tr>\n",
       "      <th>2</th>\n",
       "      <td>3</td>\n",
       "      <td>POINT (388631.230 395322.181)</td>\n",
       "      <td>True</td>\n",
       "      <td>301.0</td>\n",
       "    </tr>\n",
       "  </tbody>\n",
       "</table>\n",
       "</div>"
      ],
      "text/plain": [
       "   id                       geometry park_within_500m  distance_to_park\n",
       "0   1  POINT (388644.249 392861.634)             True             287.0\n",
       "1   2  POINT (385981.911 393805.494)             True             123.0\n",
       "2   3  POINT (388631.230 395322.181)             True             301.0"
      ]
     },
     "execution_count": 8,
     "metadata": {},
     "output_type": "execute_result"
    }
   ],
   "source": [
    "# Shortest distance to park area\n",
    "accessibility.get_shortest_distance_park(point_of_interest_file=test_path+\"Test_multiple_home_locations.gpkg\",\n",
    "                                         target_dist=500,\n",
    "                                         destination='entrance',\n",
    "                                         network_type='walk',\n",
    "                                         output_dir=test_results_path)"
   ]
  },
  {
   "cell_type": "markdown",
   "metadata": {},
   "source": [
    "# Visibility"
   ]
  },
  {
   "cell_type": "code",
   "execution_count": 9,
   "metadata": {},
   "outputs": [
    {
     "name": "stdout",
     "output_type": "stream",
     "text": [
      "Retrieving network within total bounds of Point(s) of interest, extended by the buffer_dist in case provided...\n",
      "Done, running time: 0:00:13.992052 \n",
      "\n",
      "Computing sample points for roads within area of interest's network...\n",
      "Note: creation of sample points based on code by Ondrej Mlynarcik \n",
      "source: https://github.com/Spatial-Data-Science-and-GEO-AI-Lab/2.5D-GreenViewIndex-Netherlands/blob/main/sample_points_linestrings.ipynb\n",
      "Done, running time: 0:00:00.114028 \n",
      "\n"
     ]
    },
    {
     "name": "stderr",
     "output_type": "stream",
     "text": [
      "Calculating GVI for Point 1: 100%|██████████| 12/12 [00:02<00:00,  4.39it/s]\n",
      "Calculating GVI for Point 2: 100%|██████████| 60/60 [00:06<00:00,  9.12it/s]\n",
      "Calculating GVI for Point 3: 100%|██████████| 46/46 [00:05<00:00,  9.00it/s]\n"
     ]
    },
    {
     "name": "stdout",
     "output_type": "stream",
     "text": [
      "Note: calculation of Viewshed GVI based on code by Johnny Huck and Labib Labib \n",
      "source: https://github.com/jonnyhuck/green-visibility-index/blob/master/gvi.py \n",
      "\n",
      "Writing results to new geopackage file in specified directory...\n",
      "Done\n"
     ]
    }
   ],
   "source": [
    "poi, sampled_points_df = visibility.get_viewshed_GVI(point_of_interest_file=test_path+\"Test_multiple_home_locations.gpkg\",\n",
    "                                                     greendata_raster_file=test_path+\"GM_GS_5m.tif\",\n",
    "                                                     dtm_raster_file=test_path+\"GM_DTM_5m.tif\",\n",
    "                                                     dsm_raster_file=test_path+\"GM_DSM_5m.tif\",\n",
    "                                                     #network_file=test_path+\"test_network_shp.shp\",\n",
    "                                                     buffer_dist=100,\n",
    "                                                     viewing_dist=250,\n",
    "                                                     sample_dist=50,\n",
    "                                                     observer_height=1.7,\n",
    "                                                     output_dir=test_results_path)"
   ]
  },
  {
   "cell_type": "code",
   "execution_count": 10,
   "metadata": {},
   "outputs": [
    {
     "data": {
      "text/html": [
       "<div>\n",
       "<style scoped>\n",
       "    .dataframe tbody tr th:only-of-type {\n",
       "        vertical-align: middle;\n",
       "    }\n",
       "\n",
       "    .dataframe tbody tr th {\n",
       "        vertical-align: top;\n",
       "    }\n",
       "\n",
       "    .dataframe thead th {\n",
       "        text-align: right;\n",
       "    }\n",
       "</style>\n",
       "<table border=\"1\" class=\"dataframe\">\n",
       "  <thead>\n",
       "    <tr style=\"text-align: right;\">\n",
       "      <th></th>\n",
       "      <th>id</th>\n",
       "      <th>geometry</th>\n",
       "      <th>GVI</th>\n",
       "      <th>nr_of_points</th>\n",
       "    </tr>\n",
       "  </thead>\n",
       "  <tbody>\n",
       "    <tr>\n",
       "      <th>0</th>\n",
       "      <td>1</td>\n",
       "      <td>POINT (388644.249 392861.634)</td>\n",
       "      <td>0.532</td>\n",
       "      <td>12.0</td>\n",
       "    </tr>\n",
       "    <tr>\n",
       "      <th>1</th>\n",
       "      <td>2</td>\n",
       "      <td>POINT (385981.911 393805.494)</td>\n",
       "      <td>0.118</td>\n",
       "      <td>60.0</td>\n",
       "    </tr>\n",
       "    <tr>\n",
       "      <th>2</th>\n",
       "      <td>3</td>\n",
       "      <td>POINT (388631.230 395322.181)</td>\n",
       "      <td>0.362</td>\n",
       "      <td>46.0</td>\n",
       "    </tr>\n",
       "  </tbody>\n",
       "</table>\n",
       "</div>"
      ],
      "text/plain": [
       "   id                       geometry    GVI  nr_of_points\n",
       "0   1  POINT (388644.249 392861.634)  0.532          12.0\n",
       "1   2  POINT (385981.911 393805.494)  0.118          60.0\n",
       "2   3  POINT (388631.230 395322.181)  0.362          46.0"
      ]
     },
     "execution_count": 10,
     "metadata": {},
     "output_type": "execute_result"
    }
   ],
   "source": [
    "poi"
   ]
  },
  {
   "cell_type": "code",
   "execution_count": 11,
   "metadata": {},
   "outputs": [
    {
     "data": {
      "text/html": [
       "<div>\n",
       "<style scoped>\n",
       "    .dataframe tbody tr th:only-of-type {\n",
       "        vertical-align: middle;\n",
       "    }\n",
       "\n",
       "    .dataframe tbody tr th {\n",
       "        vertical-align: top;\n",
       "    }\n",
       "\n",
       "    .dataframe thead th {\n",
       "        text-align: right;\n",
       "    }\n",
       "</style>\n",
       "<table border=\"1\" class=\"dataframe\">\n",
       "  <thead>\n",
       "    <tr style=\"text-align: right;\">\n",
       "      <th></th>\n",
       "      <th>id</th>\n",
       "      <th>geometry</th>\n",
       "    </tr>\n",
       "  </thead>\n",
       "  <tbody>\n",
       "    <tr>\n",
       "      <th>0</th>\n",
       "      <td>1</td>\n",
       "      <td>POINT (388564.100 392907.269)</td>\n",
       "    </tr>\n",
       "    <tr>\n",
       "      <th>1</th>\n",
       "      <td>1</td>\n",
       "      <td>POINT (388579.827 392895.998)</td>\n",
       "    </tr>\n",
       "    <tr>\n",
       "      <th>2</th>\n",
       "      <td>1</td>\n",
       "      <td>POINT (388661.088 392846.149)</td>\n",
       "    </tr>\n",
       "    <tr>\n",
       "      <th>3</th>\n",
       "      <td>1</td>\n",
       "      <td>POINT (388564.100 392907.269)</td>\n",
       "    </tr>\n",
       "    <tr>\n",
       "      <th>4</th>\n",
       "      <td>1</td>\n",
       "      <td>POINT (388661.088 392846.149)</td>\n",
       "    </tr>\n",
       "    <tr>\n",
       "      <th>...</th>\n",
       "      <td>...</td>\n",
       "      <td>...</td>\n",
       "    </tr>\n",
       "    <tr>\n",
       "      <th>113</th>\n",
       "      <td>3</td>\n",
       "      <td>POINT (388729.860 395335.932)</td>\n",
       "    </tr>\n",
       "    <tr>\n",
       "      <th>114</th>\n",
       "      <td>3</td>\n",
       "      <td>POINT (388743.218 395252.725)</td>\n",
       "    </tr>\n",
       "    <tr>\n",
       "      <th>115</th>\n",
       "      <td>3</td>\n",
       "      <td>POINT (388644.604 395385.631)</td>\n",
       "    </tr>\n",
       "    <tr>\n",
       "      <th>116</th>\n",
       "      <td>3</td>\n",
       "      <td>POINT (388626.529 395386.291)</td>\n",
       "    </tr>\n",
       "    <tr>\n",
       "      <th>117</th>\n",
       "      <td>3</td>\n",
       "      <td>POINT (388626.529 395386.291)</td>\n",
       "    </tr>\n",
       "  </tbody>\n",
       "</table>\n",
       "<p>118 rows × 2 columns</p>\n",
       "</div>"
      ],
      "text/plain": [
       "     id                       geometry\n",
       "0     1  POINT (388564.100 392907.269)\n",
       "1     1  POINT (388579.827 392895.998)\n",
       "2     1  POINT (388661.088 392846.149)\n",
       "3     1  POINT (388564.100 392907.269)\n",
       "4     1  POINT (388661.088 392846.149)\n",
       "..   ..                            ...\n",
       "113   3  POINT (388729.860 395335.932)\n",
       "114   3  POINT (388743.218 395252.725)\n",
       "115   3  POINT (388644.604 395385.631)\n",
       "116   3  POINT (388626.529 395386.291)\n",
       "117   3  POINT (388626.529 395386.291)\n",
       "\n",
       "[118 rows x 2 columns]"
      ]
     },
     "execution_count": 11,
     "metadata": {},
     "output_type": "execute_result"
    }
   ],
   "source": [
    "sampled_points_df"
   ]
  }
 ],
 "metadata": {
  "kernelspec": {
   "display_name": "spatial",
   "language": "python",
   "name": "python3"
  },
  "language_info": {
   "codemirror_mode": {
    "name": "ipython",
    "version": 3
   },
   "file_extension": ".py",
   "mimetype": "text/x-python",
   "name": "python",
   "nbconvert_exporter": "python",
   "pygments_lexer": "ipython3",
   "version": "3.10.10"
  },
  "orig_nbformat": 4
 },
 "nbformat": 4,
 "nbformat_minor": 2
}
