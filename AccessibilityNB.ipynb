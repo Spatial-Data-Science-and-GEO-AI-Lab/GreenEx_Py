{
 "cells": [
  {
   "cell_type": "code",
   "execution_count": 1,
   "metadata": {},
   "outputs": [],
   "source": [
    "import numpy as np\n",
    "import pandas as pd\n",
    "import os\n",
    "#from osgeo import gdal\n",
    "import geopandas as gpd\n",
    "#import rasterio\n",
    "import osmnx as ox\n",
    "import rioxarray\n",
    "import pyproj\n",
    "import shapely.geometry as sg\n",
    "import networkx as nx\n",
    "import momepy"
   ]
  },
  {
   "cell_type": "code",
   "execution_count": 2,
   "metadata": {},
   "outputs": [],
   "source": [
    "# Test data\n",
    "test_path = \"C:/Users/ygrin/Documents/Studie - MSc ADS/Utrecht University/Block 4 - Thesis/TestData/\"\n",
    "single_point = gpd.read_file(test_path + \"Test_single_home_location.gpkg\")\n",
    "multi_point = gpd.read_file(test_path + \"Test_multiple_home_locations.gpkg\")\n",
    "#polygon = gpd.read_file(test_path + \"TestArea.gpkg\")\n",
    "ndvi = rioxarray.open_rasterio(test_path + \"NDVI_data_test.tif\")\n",
    "land_cover = rioxarray.open_rasterio(test_path + \"Landcover_data_test.tif\")\n",
    "#network = gpd.read_file(test_path + \"test_network.gpkg\", layer='edges')\n",
    "network = gpd.read_file(test_path + \"test_network_shp.shp\")\n",
    "polygon = gpd.read_file(test_path + \"test_polygon.gpkg\")\n",
    "canopy_single = gpd.read_file(test_path + \"Canopy_single_home_500m.gpkg\")\n",
    "\n",
    "single_point_geographic = single_point.to_crs('epsg:4326')"
   ]
  },
  {
   "attachments": {},
   "cell_type": "markdown",
   "metadata": {},
   "source": [
    "# Greenness Accessibility -- Shortest Network Distance to Park"
   ]
  },
  {
   "cell_type": "code",
   "execution_count": 3,
   "metadata": {},
   "outputs": [],
   "source": [
    "def get_shortest_distance_park(point_of_interest_file, buffer_dist=500, network_type='walk', park_vector_file=None, network_file=None, \n",
    "                               output_dir=os.getcwd()):\n",
    "    # Read and process user input, check conditions\n",
    "    poi = gpd.read_file(point_of_interest_file)\n",
    "    if all(poi['geometry'].geom_type == 'Point') or all(poi['geometry'].geom_type == 'Polygon'):\n",
    "        geom_type = poi.iloc[0]['geometry'].geom_type\n",
    "    else:\n",
    "        raise ValueError(\"Please make sure all geometries are of 'Point' type or all geometries are of 'Polygon' type and re-run the function\")\n",
    "\n",
    "    if not poi.crs.is_projected:\n",
    "        raise ValueError(\"The CRS of the PoI dataset is currently geographic, please transform it into a local projected CRS and re-run the function\")\n",
    "    else:\n",
    "        epsg = poi.crs.to_epsg()\n",
    "\n",
    "    # In case of house polygons, transform to centroids\n",
    "    if geom_type == \"Polygon\":\n",
    "        print(\"Changing geometry type to Point by computing polygon centroids so that network distance can be retrieved...\")\n",
    "        poi['geometry'] = poi['geometry'].centroid\n",
    "        print(\"Done \\n\")\n",
    "\n",
    "    if \"id\" in poi.columns:\n",
    "        if poi['id'].isnull().values.any():\n",
    "            poi['id'] = poi['id'].fillna(pd.Series(range(1, len(poi) + 1))).astype(int)\n",
    "    else:\n",
    "        poi['id'] = pd.Series(range(1, len(poi) + 1)).astype(int)\n",
    "\n",
    "    if not isinstance(buffer_dist, int) or (not buffer_dist > 0):\n",
    "        raise TypeError(\"Please make sure that the buffer distance is set as a positive integer\")\n",
    "\n",
    "    if network_type not in [\"walk\", \"bike\", \"drive\", \"all\"]:\n",
    "        raise ValueError(\"Please make sure that the network_type argument is set to either 'walk', 'bike, 'drive' or 'all', and re-run the function\")\n",
    "\n",
    "    epsg_transformer = pyproj.Transformer.from_crs(f\"epsg:{epsg}\", \"epsg:4326\") # EPSG transformer to use for OSM            \n",
    "    # Read park polygons, retrieve from OSM if not provided by user \n",
    "    if park_vector_file is not None:\n",
    "        park_src = gpd.read_file(park_vector_file)\n",
    "        if not park_src.crs.to_epsg() == epsg:\n",
    "            print(\"Adjusting CRS of Park file to match with Point of Interest CRS...\")\n",
    "            park_src.to_crs(f'EPSG:{epsg}', inplace=True)\n",
    "            print(\"Done \\n\")\n",
    "\n",
    "        print(\"Filtering parks which are (partly) within buffer zone...\")\n",
    "        #################################################################\n",
    "        print{\"Done \\n\"}\n",
    "    else:\n",
    "        print(\"Retrieving parks within buffer distance for point(s) of interest...\")\n",
    "        park_tags = {'leisure': 'park', 'boundary': 'national_park', 'landuse': 'recreation_ground'}\n",
    "        parks_buffer = gpd.GeoDataFrame()\n",
    "        for geom in multi_point['geometry']:\n",
    "            latlon = epsg_transformer.transform(geom.x, geom.y)\n",
    "            park_geom = ox.geometries_from_point(latlon, tags=park_tags, dist=buffer_dist)\n",
    "            parks_buffer = gpd.GeoDataFrame(pd.concat([parks_buffer, park_geom], ignore_index=True), crs=park_geom.crs)\n",
    "        parks_buffer.to_crs(f\"EPSG:{epsg}\", inplace=True)\n",
    "        print(\"Done \\n\")\n",
    "\n",
    "    # Read road network, retrieve from OSM if not provided by user \n",
    "    if network_file is not None:\n",
    "        network = gpd.read_file(network_file)\n",
    "        if not network.crs.to_epsg() == epsg:\n",
    "            print(\"Adjusting CRS of Network file to match with Point of Interest CRS...\")\n",
    "            network.to_crs(f'EPSG:{epsg}', inplace=True)\n",
    "            print(\"Done \\n\")\n",
    "    else:\n",
    "        print(\"Retrieving infrastructure network within buffer distance for point(s) of interest...\")\n",
    "        network = gpd.GeoDataFrame()\n",
    "        for geom in multi_point['geometry']:\n",
    "            latlon = epsg_transformer.transform(geom.x, geom.y)\n",
    "            park_geom = ox.geometries_from_point(latlon, tags=park_tags, dist=500)\n",
    "            park_src = gpd.GeoDataFrame(pd.concat([park_src, park_geom], ignore_index=True), crs=park_geom.crs)\n",
    "        print(\"Done \\n\")\n",
    "        \n",
    "\n",
    "    print(\"Writing results to new geopackage file in specified directory...\")\n",
    "    input_filename, ext = os.path.splitext(point_of_interest_file)\n",
    "    poi.to_file(os.path.join(output_dir, f\"{input_filename}_ShortDistPark_added.gpkg\"), driver=\"GPKG\")\n",
    "    print(\"Done\")\n",
    "\n",
    "    return poi"
   ]
  },
  {
   "cell_type": "code",
   "execution_count": 43,
   "metadata": {},
   "outputs": [],
   "source": [
    "epsg_transformer = pyproj.Transformer.from_crs(\"epsg:27700\", \"epsg:4326\") # EPSG transformer to use for OSM\n",
    "park_tags = {'leisure': 'park', 'boundary': 'national_park', 'landuse': 'recreation_ground'}\n",
    "park_src = gpd.GeoDataFrame()\n",
    "for geom in multi_point['geometry']:\n",
    "    latlon = epsg_transformer.transform(geom.x, geom.y)\n",
    "    park_geom = ox.geometries_from_point(latlon, tags=park_tags, dist=500)\n",
    "    park_src = gpd.GeoDataFrame(pd.concat([park_src, park_geom], ignore_index=True), crs=park_geom.crs)\n",
    "park_src.to_crs(\"EPSG:27700\", inplace=True)"
   ]
  },
  {
   "cell_type": "code",
   "execution_count": 53,
   "metadata": {},
   "outputs": [],
   "source": [
    "epsg_transformer = pyproj.Transformer.from_crs(\"epsg:27700\", \"epsg:4326\") # EPSG transformer to use for OSM\n",
    "park_tags = {'leisure': 'park', 'boundary': 'national_park', 'landuse': 'recreation_ground'}\n",
    "park_src = []\n",
    "for geom in multi_point['geometry']:\n",
    "    latlon = epsg_transformer.transform(geom.x, geom.y)\n",
    "    park_geom = ox.geometries_from_point(latlon, tags=park_tags, dist=500)\n",
    "    parks = gpd.GeoDataFrame(park_geom, crs=park_geom.crs).to_crs(\"EPSG:27700\")\n",
    "    park_src.append(parks)"
   ]
  },
  {
   "cell_type": "code",
   "execution_count": 61,
   "metadata": {},
   "outputs": [],
   "source": [
    "# define the EPSG transformer for transforming the point geometries\n",
    "epsg_transformer = pyproj.Transformer.from_crs(\"epsg:27700\", \"epsg:4326\")\n",
    "# create an empty GeoDataFrame to hold the network geometries\n",
    "network_list = []\n",
    "# iterate through each point geometry in the multi_point GeoDataFrame\n",
    "for geom in multi_point['geometry']:\n",
    "    # transform the point geometry to lat/lon coordinates\n",
    "    latlon = epsg_transformer.transform(geom.x, geom.y)\n",
    "    # retrieve the network geometries within the buffer distance from the point\n",
    "    network_graph = ox.graph_from_point(latlon, dist=500, network_type='walk')\n",
    "    network_graph = ox.project_graph(network_graph, to_crs=\"EPSG:27700\")\n",
    "    network_list.append(network_graph)\n",
    "\n",
    "# create an empty MultiDiGraph object to hold the combined graphs\n",
    "#combined_graph = nx.MultiDiGraph()\n",
    "\n",
    "# iterate through each graph in the list and add its nodes and edges to the combined graph\n",
    "#for graph in network_list:\n",
    "#    combined_graph = nx.union(combined_graph, graph)\n",
    "\n",
    "#combined_graph = ox.project_graph(combined_graph, to_crs=\"EPSG:27700\")\n"
   ]
  },
  {
   "cell_type": "code",
   "execution_count": null,
   "metadata": {},
   "outputs": [],
   "source": [
    "for geom, parks, graph in zip(multi_point['geometry'], park_src, network_list):\n",
    "    nx.shortest_path_length(graph, source=geom, target=)"
   ]
  },
  {
   "cell_type": "code",
   "execution_count": null,
   "metadata": {},
   "outputs": [],
   "source": []
  }
 ],
 "metadata": {
  "kernelspec": {
   "display_name": "spatial",
   "language": "python",
   "name": "python3"
  },
  "language_info": {
   "codemirror_mode": {
    "name": "ipython",
    "version": 3
   },
   "file_extension": ".py",
   "mimetype": "text/x-python",
   "name": "python",
   "nbconvert_exporter": "python",
   "pygments_lexer": "ipython3",
   "version": "3.10.10"
  },
  "orig_nbformat": 4
 },
 "nbformat": 4,
 "nbformat_minor": 2
}
