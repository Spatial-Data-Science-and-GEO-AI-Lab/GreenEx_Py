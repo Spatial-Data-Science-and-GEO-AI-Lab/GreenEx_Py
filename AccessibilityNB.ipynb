{
 "cells": [
  {
   "cell_type": "code",
   "execution_count": 1,
   "metadata": {},
   "outputs": [],
   "source": [
    "import numpy as np\n",
    "import pandas as pd\n",
    "import os\n",
    "#from osgeo import gdal\n",
    "import geopandas as gpd\n",
    "#import rasterio\n",
    "import osmnx as ox\n",
    "import rioxarray\n",
    "import pyproj\n",
    "import shapely.geometry as sg\n",
    "import networkx as nx\n",
    "import momepy"
   ]
  },
  {
   "cell_type": "code",
   "execution_count": 2,
   "metadata": {},
   "outputs": [],
   "source": [
    "# Test data\n",
    "test_path = \"C:/Users/ygrin/Documents/Studie - MSc ADS/Utrecht University/Block 4 - Thesis/TestData/\"\n",
    "single_point = gpd.read_file(test_path + \"Test_single_home_location.gpkg\")\n",
    "multi_point = gpd.read_file(test_path + \"Test_multiple_home_locations.gpkg\")\n",
    "#polygon = gpd.read_file(test_path + \"TestArea.gpkg\")\n",
    "ndvi = rioxarray.open_rasterio(test_path + \"NDVI_data_test.tif\")\n",
    "land_cover = rioxarray.open_rasterio(test_path + \"Landcover_data_test.tif\")\n",
    "#network = gpd.read_file(test_path + \"test_network.gpkg\", layer='edges')\n",
    "network = gpd.read_file(test_path + \"test_network_shp.shp\")\n",
    "polygon = gpd.read_file(test_path + \"test_polygon.gpkg\")\n",
    "canopy_single = gpd.read_file(test_path + \"Canopy_single_home_500m.gpkg\")\n",
    "\n",
    "single_point_geographic = single_point.to_crs('epsg:4326')"
   ]
  },
  {
   "attachments": {},
   "cell_type": "markdown",
   "metadata": {},
   "source": [
    "# Greenness Accessibility -- Shortest Network Distance to Park"
   ]
  },
  {
   "cell_type": "code",
   "execution_count": 3,
   "metadata": {},
   "outputs": [],
   "source": [
    "def calculate_shortest_distance(geom=None, buffer_dist=None, network_graph=None, park_src=None):   \n",
    "    park_buffer = park_src.clip(geom.buffer(buffer_dist))\n",
    "\n",
    "    # get nearest node to house location\n",
    "    nearest_node = ox.distance.nearest_nodes(network_graph, geom.x, geom.y)\n",
    "    # Create dictionary to extract geometries for nodes of interest later on\n",
    "    pos = {n: (network_graph.nodes[n]['x'], network_graph.nodes[n]['y']) for n in network_graph.nodes}\n",
    "    # get nodes within 25 meters of clipped park polygon boundaries\n",
    "    boundary_nodes = []\n",
    "    for boundary in park_buffer.boundary:\n",
    "        for node in network_graph.nodes():\n",
    "            node_pos = sg.Point(pos[node])\n",
    "            if node_pos.distance(boundary) < 25:\n",
    "                boundary_nodes.append(node)\n",
    "\n",
    "    # calculate network distances from house location's nearest node to nodes closest to park boundaries within buffer distance from house\n",
    "    distances = {}\n",
    "    for node in boundary_nodes:\n",
    "        try:\n",
    "            path = nx.shortest_path(network_graph, nearest_node, node, weight='length') \n",
    "            distance = sum([network_graph.edges[path[i], path[i+1], 0]['length'] for i in range(len(path)-1)])\n",
    "            distances[node] = distance\n",
    "        except:\n",
    "            pass\n",
    "\n",
    "    # get minimum distance\n",
    "    if distances:\n",
    "        min_distance = min(distances.values())\n",
    "    else:\n",
    "        min_distance = np.nan\n",
    "    \n",
    "    return min_distance"
   ]
  },
  {
   "cell_type": "code",
   "execution_count": 5,
   "metadata": {},
   "outputs": [],
   "source": [
    "def get_shortest_distance_park(point_of_interest_file, buffer_dist=500, park_vector_file=None, network_file=None, network_type=None, \n",
    "                               output_dir=os.getcwd()):\n",
    "    # Read and process user input, check conditions\n",
    "    poi = gpd.read_file(point_of_interest_file)\n",
    "    if all(poi['geometry'].geom_type == 'Point') or all(poi['geometry'].geom_type == 'Polygon'):\n",
    "        geom_type = poi.iloc[0]['geometry'].geom_type\n",
    "    else:\n",
    "        raise ValueError(\"Please make sure all geometries are of 'Point' type or all geometries are of 'Polygon' type and re-run the function\")\n",
    "\n",
    "    if not poi.crs.is_projected:\n",
    "        raise ValueError(\"The CRS of the PoI dataset is currently geographic, please transform it into a local projected CRS and re-run the function\")\n",
    "    else:\n",
    "        epsg = poi.crs.to_epsg()\n",
    "\n",
    "    # In case of house polygons, transform to centroids\n",
    "    if geom_type == \"Polygon\":\n",
    "        print(\"Changing geometry type to Point by computing polygon centroids so that network distance can be retrieved...\")\n",
    "        poi['geometry'] = poi['geometry'].centroid\n",
    "        print(\"Done \\n\")\n",
    "\n",
    "    if \"id\" in poi.columns:\n",
    "        if poi['id'].isnull().values.any():\n",
    "            poi['id'] = poi['id'].fillna(pd.Series(range(1, len(poi) + 1))).astype(int)\n",
    "    else:\n",
    "        poi['id'] = pd.Series(range(1, len(poi) + 1)).astype(int)\n",
    "\n",
    "    if not isinstance(buffer_dist, int) or (not buffer_dist > 0):\n",
    "        raise TypeError(\"Please make sure that the buffer distance is set as a positive integer\")\n",
    "\n",
    "    epsg_transformer = pyproj.Transformer.from_crs(f\"epsg:{epsg}\", \"epsg:4326\") # EPSG transformer to use for OSM            \n",
    "    # Read park polygons, retrieve from OSM if not provided by user \n",
    "    if park_vector_file is not None:\n",
    "        park_src = gpd.read_file(park_vector_file)\n",
    "        if not park_src.crs.to_epsg() == epsg:\n",
    "            print(\"Adjusting CRS of Park file to match with Point of Interest CRS...\")\n",
    "            park_src.to_crs(f'EPSG:{epsg}', inplace=True)\n",
    "            print(\"Done \\n\")\n",
    "    else:\n",
    "        print(\"Retrieving parks within buffer distance for point(s) of interest...\")\n",
    "        park_tags = {'leisure': 'park', 'boundary': 'national_park', 'landuse': 'recreation_ground'}\n",
    "        park_src = gpd.GeoDataFrame()\n",
    "        for geom in poi['geometry']:\n",
    "            latlon = epsg_transformer.transform(geom.x, geom.y)\n",
    "            park_geom = ox.geometries_from_point(latlon, tags=park_tags, dist=buffer_dist)\n",
    "            park_src = gpd.GeoDataFrame(pd.concat([park_src, park_geom], ignore_index=True), crs=park_geom.crs)\n",
    "        park_src.to_crs(f\"EPSG:{epsg}\", inplace=True)\n",
    "        print(\"Done \\n\")\n",
    "\n",
    "    # Read road network, retrieve from OSM if not provided by user \n",
    "    if network_file is not None:\n",
    "        if os.path.splitext(network_file)[1] not in [\".gpkg\", \".shp\"]:\n",
    "            raise ValueError(\"Please provide the network file in '.gpkg' or '.shp' format\")\n",
    "        elif network_file is not None and (os.path.splitext(network_file)[1] == \".gpkg\"):\n",
    "            network = gpd.read_file(network_file, layer='edges')\n",
    "        elif network_file is not None and (os.path.splitext(network_file)[1] == \".shp\"):\n",
    "            network = gpd.read_file(network_file)\n",
    "\n",
    "        if not network.crs.to_epsg() == epsg:\n",
    "            print(\"Adjusting CRS of Network file to match with Point of Interest CRS...\")\n",
    "            network.to_crs(f'EPSG:{epsg}', inplace=True)\n",
    "            print(\"Done \\n\")\n",
    "\n",
    "        # Check if house locations are within network file provided\n",
    "        bbox_network = network.unary_union.envelope\n",
    "        if not all(geom.within(bbox_network) for geom in poi['geometry']):\n",
    "            raise ValueError(\"Not all points of interest are within the network file provided, please make sure they are and re-run the function\")\n",
    "\n",
    "        # Convert network to graph object using momempy\n",
    "        network_graph = momepy.gdf_to_nx(network).to_directed()\n",
    "    else:\n",
    "        if network_type not in [\"walk\", \"bike\", \"drive\", \"all\"]:\n",
    "            raise ValueError(\"Please make sure that the network_type argument is set to either 'walk', 'bike, 'drive' or 'all', and re-run the function\")\n",
    "\n",
    "        print(\"Retrieving infrastructure network within buffer distance for point(s) of interest...\")\n",
    "        graph_list = []\n",
    "        for geom in poi['geometry']:\n",
    "            latlon = epsg_transformer.transform(geom.x, geom.y)\n",
    "            network = ox.graph_from_point(latlon, dist=buffer_dist, network_type=network_type)\n",
    "            network = ox.project_graph(network, to_crs=f\"EPSG:{epsg}\")\n",
    "            graph_list.append(network)\n",
    "\n",
    "        network_graph = nx.MultiDiGraph()\n",
    "        for graph in graph_list:\n",
    "            network_graph = nx.union(network_graph, graph)\n",
    "        print(\"Done \\n\")\n",
    "    \n",
    "    print(\"Calculating shortest distances...\")\n",
    "    poi['shortest_distance_park'] = poi.geometry.apply(lambda x: calculate_shortest_distance(geom=x, buffer_dist=buffer_dist, network_graph=network_graph, park_src=park_src))\n",
    "    print(\"Done \\n\")\n",
    "    \n",
    "    print(\"Writing results to new geopackage file in specified directory...\")\n",
    "    input_filename, ext = os.path.splitext(point_of_interest_file)\n",
    "    poi.to_file(os.path.join(output_dir, f\"{input_filename}_ShortDistPark_added.gpkg\"), driver=\"GPKG\")\n",
    "    print(\"Done\")\n",
    "\n",
    "    return poi"
   ]
  },
  {
   "cell_type": "code",
   "execution_count": 256,
   "metadata": {},
   "outputs": [
    {
     "name": "stdout",
     "output_type": "stream",
     "text": [
      "Retrieving parks within buffer distance for point(s) of interest...\n",
      "Done \n",
      "\n",
      "Retrieving infrastructure network within buffer distance for point(s) of interest...\n",
      "Done \n",
      "\n",
      "Calculating shortest distances...\n"
     ]
    },
    {
     "name": "stderr",
     "output_type": "stream",
     "text": [
      "c:\\Users\\ygrin\\anaconda3\\envs\\spatial\\lib\\site-packages\\geopandas\\tools\\clip.py:67: DeprecationWarning: In a future version, `df.iloc[:, i] = newvals` will attempt to set the values inplace instead of always setting a new array. To retain the old behavior, use either `df[df.columns[i]] = newvals` or, if columns are non-unique, `df.isetitem(i, newvals)`\n",
      "  clipped.loc[\n",
      "c:\\Users\\ygrin\\anaconda3\\envs\\spatial\\lib\\site-packages\\geopandas\\tools\\clip.py:67: DeprecationWarning: In a future version, `df.iloc[:, i] = newvals` will attempt to set the values inplace instead of always setting a new array. To retain the old behavior, use either `df[df.columns[i]] = newvals` or, if columns are non-unique, `df.isetitem(i, newvals)`\n",
      "  clipped.loc[\n",
      "c:\\Users\\ygrin\\anaconda3\\envs\\spatial\\lib\\site-packages\\geopandas\\tools\\clip.py:67: DeprecationWarning: In a future version, `df.iloc[:, i] = newvals` will attempt to set the values inplace instead of always setting a new array. To retain the old behavior, use either `df[df.columns[i]] = newvals` or, if columns are non-unique, `df.isetitem(i, newvals)`\n",
      "  clipped.loc[\n"
     ]
    },
    {
     "name": "stdout",
     "output_type": "stream",
     "text": [
      "Done \n",
      "\n",
      "Writing results to new geopackage file in specified directory...\n",
      "Done\n"
     ]
    }
   ],
   "source": [
    "shortest_dist = get_shortest_distance_park(point_of_interest_file=test_path + \"Test_multiple_home_locations.gpkg\", buffer_dist=500, \n",
    "                                           park_vector_file=None, network_file=None, network_type='bike', output_dir=os.getcwd())"
   ]
  },
  {
   "cell_type": "code",
   "execution_count": 257,
   "metadata": {},
   "outputs": [
    {
     "data": {
      "text/html": [
       "<div>\n",
       "<style scoped>\n",
       "    .dataframe tbody tr th:only-of-type {\n",
       "        vertical-align: middle;\n",
       "    }\n",
       "\n",
       "    .dataframe tbody tr th {\n",
       "        vertical-align: top;\n",
       "    }\n",
       "\n",
       "    .dataframe thead th {\n",
       "        text-align: right;\n",
       "    }\n",
       "</style>\n",
       "<table border=\"1\" class=\"dataframe\">\n",
       "  <thead>\n",
       "    <tr style=\"text-align: right;\">\n",
       "      <th></th>\n",
       "      <th>id</th>\n",
       "      <th>geometry</th>\n",
       "      <th>shortest_distance_park</th>\n",
       "    </tr>\n",
       "  </thead>\n",
       "  <tbody>\n",
       "    <tr>\n",
       "      <th>0</th>\n",
       "      <td>1</td>\n",
       "      <td>POINT (388644.249 392861.634)</td>\n",
       "      <td>346.715</td>\n",
       "    </tr>\n",
       "    <tr>\n",
       "      <th>1</th>\n",
       "      <td>2</td>\n",
       "      <td>POINT (385981.911 393805.494)</td>\n",
       "      <td>456.385</td>\n",
       "    </tr>\n",
       "    <tr>\n",
       "      <th>2</th>\n",
       "      <td>3</td>\n",
       "      <td>POINT (388631.230 395322.181)</td>\n",
       "      <td>510.566</td>\n",
       "    </tr>\n",
       "  </tbody>\n",
       "</table>\n",
       "</div>"
      ],
      "text/plain": [
       "   id                       geometry  shortest_distance_park\n",
       "0   1  POINT (388644.249 392861.634)                 346.715\n",
       "1   2  POINT (385981.911 393805.494)                 456.385\n",
       "2   3  POINT (388631.230 395322.181)                 510.566"
      ]
     },
     "execution_count": 257,
     "metadata": {},
     "output_type": "execute_result"
    }
   ],
   "source": [
    "shortest_dist"
   ]
  },
  {
   "attachments": {},
   "cell_type": "markdown",
   "metadata": {},
   "source": [
    "# Testing"
   ]
  },
  {
   "cell_type": "code",
   "execution_count": 7,
   "metadata": {},
   "outputs": [
    {
     "name": "stdout",
     "output_type": "stream",
     "text": [
      "Retrieving parks within buffer distance for point(s) of interest...\n",
      "Done \n",
      "\n",
      "Adjusting CRS of Network file to match with Point of Interest CRS...\n",
      "Done \n",
      "\n",
      "Calculating shortest distances...\n"
     ]
    },
    {
     "ename": "TypeError",
     "evalue": "Must pass list-like as `names`.",
     "output_type": "error",
     "traceback": [
      "\u001b[1;31m---------------------------------------------------------------------------\u001b[0m",
      "\u001b[1;31mTypeError\u001b[0m                                 Traceback (most recent call last)",
      "Cell \u001b[1;32mIn[7], line 1\u001b[0m\n\u001b[1;32m----> 1\u001b[0m shortest_dist \u001b[39m=\u001b[39m get_shortest_distance_park(point_of_interest_file\u001b[39m=\u001b[39;49mtest_path \u001b[39m+\u001b[39;49m \u001b[39m\"\u001b[39;49m\u001b[39mTest_single_home_location.gpkg\u001b[39;49m\u001b[39m\"\u001b[39;49m, buffer_dist\u001b[39m=\u001b[39;49m\u001b[39m500\u001b[39;49m, \n\u001b[0;32m      2\u001b[0m                                            park_vector_file\u001b[39m=\u001b[39;49m\u001b[39mNone\u001b[39;49;00m, network_file\u001b[39m=\u001b[39;49mtest_path \u001b[39m+\u001b[39;49m \u001b[39m\"\u001b[39;49m\u001b[39mtest_network.gpkg\u001b[39;49m\u001b[39m\"\u001b[39;49m, network_type\u001b[39m=\u001b[39;49m\u001b[39mNone\u001b[39;49;00m, \n\u001b[0;32m      3\u001b[0m                                            output_dir\u001b[39m=\u001b[39;49mos\u001b[39m.\u001b[39;49mgetcwd())\n",
      "Cell \u001b[1;32mIn[5], line 88\u001b[0m, in \u001b[0;36mget_shortest_distance_park\u001b[1;34m(point_of_interest_file, buffer_dist, park_vector_file, network_file, network_type, output_dir)\u001b[0m\n\u001b[0;32m     85\u001b[0m     \u001b[39mprint\u001b[39m(\u001b[39m\"\u001b[39m\u001b[39mDone \u001b[39m\u001b[39m\\n\u001b[39;00m\u001b[39m\"\u001b[39m)\n\u001b[0;32m     87\u001b[0m \u001b[39mprint\u001b[39m(\u001b[39m\"\u001b[39m\u001b[39mCalculating shortest distances...\u001b[39m\u001b[39m\"\u001b[39m)\n\u001b[1;32m---> 88\u001b[0m poi[\u001b[39m'\u001b[39m\u001b[39mshortest_distance_park\u001b[39m\u001b[39m'\u001b[39m] \u001b[39m=\u001b[39m poi\u001b[39m.\u001b[39;49mgeometry\u001b[39m.\u001b[39;49mapply(\u001b[39mlambda\u001b[39;49;00m x: calculate_shortest_distance(geom\u001b[39m=\u001b[39;49mx, buffer_dist\u001b[39m=\u001b[39;49mbuffer_dist, network_graph\u001b[39m=\u001b[39;49mnetwork_graph, park_src\u001b[39m=\u001b[39;49mpark_src))\n\u001b[0;32m     89\u001b[0m \u001b[39mprint\u001b[39m(\u001b[39m\"\u001b[39m\u001b[39mDone \u001b[39m\u001b[39m\\n\u001b[39;00m\u001b[39m\"\u001b[39m)\n\u001b[0;32m     91\u001b[0m \u001b[39mprint\u001b[39m(\u001b[39m\"\u001b[39m\u001b[39mWriting results to new geopackage file in specified directory...\u001b[39m\u001b[39m\"\u001b[39m)\n",
      "File \u001b[1;32mc:\\Users\\ygrin\\anaconda3\\envs\\spatial\\lib\\site-packages\\geopandas\\geoseries.py:645\u001b[0m, in \u001b[0;36mGeoSeries.apply\u001b[1;34m(self, func, convert_dtype, args, **kwargs)\u001b[0m\n\u001b[0;32m    643\u001b[0m \u001b[39m@doc\u001b[39m(pd\u001b[39m.\u001b[39mSeries)\n\u001b[0;32m    644\u001b[0m \u001b[39mdef\u001b[39;00m \u001b[39mapply\u001b[39m(\u001b[39mself\u001b[39m, func, convert_dtype\u001b[39m=\u001b[39m\u001b[39mTrue\u001b[39;00m, args\u001b[39m=\u001b[39m(), \u001b[39m*\u001b[39m\u001b[39m*\u001b[39mkwargs):\n\u001b[1;32m--> 645\u001b[0m     result \u001b[39m=\u001b[39m \u001b[39msuper\u001b[39m()\u001b[39m.\u001b[39mapply(func, convert_dtype\u001b[39m=\u001b[39mconvert_dtype, args\u001b[39m=\u001b[39margs, \u001b[39m*\u001b[39m\u001b[39m*\u001b[39mkwargs)\n\u001b[0;32m    646\u001b[0m     \u001b[39mif\u001b[39;00m \u001b[39misinstance\u001b[39m(result, GeoSeries):\n\u001b[0;32m    647\u001b[0m         \u001b[39mif\u001b[39;00m \u001b[39mself\u001b[39m\u001b[39m.\u001b[39mcrs \u001b[39mis\u001b[39;00m \u001b[39mnot\u001b[39;00m \u001b[39mNone\u001b[39;00m:\n",
      "File \u001b[1;32mc:\\Users\\ygrin\\anaconda3\\envs\\spatial\\lib\\site-packages\\pandas\\core\\series.py:4771\u001b[0m, in \u001b[0;36mSeries.apply\u001b[1;34m(self, func, convert_dtype, args, **kwargs)\u001b[0m\n\u001b[0;32m   4661\u001b[0m \u001b[39mdef\u001b[39;00m \u001b[39mapply\u001b[39m(\n\u001b[0;32m   4662\u001b[0m     \u001b[39mself\u001b[39m,\n\u001b[0;32m   4663\u001b[0m     func: AggFuncType,\n\u001b[1;32m   (...)\u001b[0m\n\u001b[0;32m   4666\u001b[0m     \u001b[39m*\u001b[39m\u001b[39m*\u001b[39mkwargs,\n\u001b[0;32m   4667\u001b[0m ) \u001b[39m-\u001b[39m\u001b[39m>\u001b[39m DataFrame \u001b[39m|\u001b[39m Series:\n\u001b[0;32m   4668\u001b[0m \u001b[39m    \u001b[39m\u001b[39m\"\"\"\u001b[39;00m\n\u001b[0;32m   4669\u001b[0m \u001b[39m    Invoke function on values of Series.\u001b[39;00m\n\u001b[0;32m   4670\u001b[0m \n\u001b[1;32m   (...)\u001b[0m\n\u001b[0;32m   4769\u001b[0m \u001b[39m    dtype: float64\u001b[39;00m\n\u001b[0;32m   4770\u001b[0m \u001b[39m    \"\"\"\u001b[39;00m\n\u001b[1;32m-> 4771\u001b[0m     \u001b[39mreturn\u001b[39;00m SeriesApply(\u001b[39mself\u001b[39;49m, func, convert_dtype, args, kwargs)\u001b[39m.\u001b[39;49mapply()\n",
      "File \u001b[1;32mc:\\Users\\ygrin\\anaconda3\\envs\\spatial\\lib\\site-packages\\pandas\\core\\apply.py:1123\u001b[0m, in \u001b[0;36mSeriesApply.apply\u001b[1;34m(self)\u001b[0m\n\u001b[0;32m   1120\u001b[0m     \u001b[39mreturn\u001b[39;00m \u001b[39mself\u001b[39m\u001b[39m.\u001b[39mapply_str()\n\u001b[0;32m   1122\u001b[0m \u001b[39m# self.f is Callable\u001b[39;00m\n\u001b[1;32m-> 1123\u001b[0m \u001b[39mreturn\u001b[39;00m \u001b[39mself\u001b[39;49m\u001b[39m.\u001b[39;49mapply_standard()\n",
      "File \u001b[1;32mc:\\Users\\ygrin\\anaconda3\\envs\\spatial\\lib\\site-packages\\pandas\\core\\apply.py:1174\u001b[0m, in \u001b[0;36mSeriesApply.apply_standard\u001b[1;34m(self)\u001b[0m\n\u001b[0;32m   1172\u001b[0m     \u001b[39melse\u001b[39;00m:\n\u001b[0;32m   1173\u001b[0m         values \u001b[39m=\u001b[39m obj\u001b[39m.\u001b[39mastype(\u001b[39mobject\u001b[39m)\u001b[39m.\u001b[39m_values\n\u001b[1;32m-> 1174\u001b[0m         mapped \u001b[39m=\u001b[39m lib\u001b[39m.\u001b[39;49mmap_infer(\n\u001b[0;32m   1175\u001b[0m             values,\n\u001b[0;32m   1176\u001b[0m             f,\n\u001b[0;32m   1177\u001b[0m             convert\u001b[39m=\u001b[39;49m\u001b[39mself\u001b[39;49m\u001b[39m.\u001b[39;49mconvert_dtype,\n\u001b[0;32m   1178\u001b[0m         )\n\u001b[0;32m   1180\u001b[0m \u001b[39mif\u001b[39;00m \u001b[39mlen\u001b[39m(mapped) \u001b[39mand\u001b[39;00m \u001b[39misinstance\u001b[39m(mapped[\u001b[39m0\u001b[39m], ABCSeries):\n\u001b[0;32m   1181\u001b[0m     \u001b[39m# GH#43986 Need to do list(mapped) in order to get treated as nested\u001b[39;00m\n\u001b[0;32m   1182\u001b[0m     \u001b[39m#  See also GH#25959 regarding EA support\u001b[39;00m\n\u001b[0;32m   1183\u001b[0m     \u001b[39mreturn\u001b[39;00m obj\u001b[39m.\u001b[39m_constructor_expanddim(\u001b[39mlist\u001b[39m(mapped), index\u001b[39m=\u001b[39mobj\u001b[39m.\u001b[39mindex)\n",
      "File \u001b[1;32mc:\\Users\\ygrin\\anaconda3\\envs\\spatial\\lib\\site-packages\\pandas\\_libs\\lib.pyx:2924\u001b[0m, in \u001b[0;36mpandas._libs.lib.map_infer\u001b[1;34m()\u001b[0m\n",
      "Cell \u001b[1;32mIn[5], line 88\u001b[0m, in \u001b[0;36mget_shortest_distance_park.<locals>.<lambda>\u001b[1;34m(x)\u001b[0m\n\u001b[0;32m     85\u001b[0m     \u001b[39mprint\u001b[39m(\u001b[39m\"\u001b[39m\u001b[39mDone \u001b[39m\u001b[39m\\n\u001b[39;00m\u001b[39m\"\u001b[39m)\n\u001b[0;32m     87\u001b[0m \u001b[39mprint\u001b[39m(\u001b[39m\"\u001b[39m\u001b[39mCalculating shortest distances...\u001b[39m\u001b[39m\"\u001b[39m)\n\u001b[1;32m---> 88\u001b[0m poi[\u001b[39m'\u001b[39m\u001b[39mshortest_distance_park\u001b[39m\u001b[39m'\u001b[39m] \u001b[39m=\u001b[39m poi\u001b[39m.\u001b[39mgeometry\u001b[39m.\u001b[39mapply(\u001b[39mlambda\u001b[39;00m x: calculate_shortest_distance(geom\u001b[39m=\u001b[39;49mx, buffer_dist\u001b[39m=\u001b[39;49mbuffer_dist, network_graph\u001b[39m=\u001b[39;49mnetwork_graph, park_src\u001b[39m=\u001b[39;49mpark_src))\n\u001b[0;32m     89\u001b[0m \u001b[39mprint\u001b[39m(\u001b[39m\"\u001b[39m\u001b[39mDone \u001b[39m\u001b[39m\\n\u001b[39;00m\u001b[39m\"\u001b[39m)\n\u001b[0;32m     91\u001b[0m \u001b[39mprint\u001b[39m(\u001b[39m\"\u001b[39m\u001b[39mWriting results to new geopackage file in specified directory...\u001b[39m\u001b[39m\"\u001b[39m)\n",
      "Cell \u001b[1;32mIn[3], line 5\u001b[0m, in \u001b[0;36mcalculate_shortest_distance\u001b[1;34m(geom, buffer_dist, network_graph, park_src)\u001b[0m\n\u001b[0;32m      2\u001b[0m park_buffer \u001b[39m=\u001b[39m park_src\u001b[39m.\u001b[39mclip(geom\u001b[39m.\u001b[39mbuffer(buffer_dist))\n\u001b[0;32m      4\u001b[0m \u001b[39m# get nearest node to house location\u001b[39;00m\n\u001b[1;32m----> 5\u001b[0m nearest_node \u001b[39m=\u001b[39m ox\u001b[39m.\u001b[39;49mdistance\u001b[39m.\u001b[39;49mnearest_nodes(network_graph, geom\u001b[39m.\u001b[39;49mx, geom\u001b[39m.\u001b[39;49my)\n\u001b[0;32m      6\u001b[0m \u001b[39m# Create dictionary to extract geometries for nodes of interest later on\u001b[39;00m\n\u001b[0;32m      7\u001b[0m pos \u001b[39m=\u001b[39m {n: (network_graph\u001b[39m.\u001b[39mnodes[n][\u001b[39m'\u001b[39m\u001b[39mx\u001b[39m\u001b[39m'\u001b[39m], network_graph\u001b[39m.\u001b[39mnodes[n][\u001b[39m'\u001b[39m\u001b[39my\u001b[39m\u001b[39m'\u001b[39m]) \u001b[39mfor\u001b[39;00m n \u001b[39min\u001b[39;00m network_graph\u001b[39m.\u001b[39mnodes}\n",
      "File \u001b[1;32mc:\\Users\\ygrin\\anaconda3\\envs\\spatial\\lib\\site-packages\\osmnx\\distance.py:204\u001b[0m, in \u001b[0;36mnearest_nodes\u001b[1;34m(G, X, Y, return_dist)\u001b[0m\n\u001b[0;32m    202\u001b[0m \u001b[39mif\u001b[39;00m np\u001b[39m.\u001b[39misnan(X)\u001b[39m.\u001b[39many() \u001b[39mor\u001b[39;00m np\u001b[39m.\u001b[39misnan(Y)\u001b[39m.\u001b[39many():  \u001b[39m# pragma: no cover\u001b[39;00m\n\u001b[0;32m    203\u001b[0m     \u001b[39mraise\u001b[39;00m \u001b[39mValueError\u001b[39;00m(\u001b[39m\"\u001b[39m\u001b[39m`X` and `Y` cannot contain nulls\u001b[39m\u001b[39m\"\u001b[39m)\n\u001b[1;32m--> 204\u001b[0m nodes \u001b[39m=\u001b[39m utils_graph\u001b[39m.\u001b[39;49mgraph_to_gdfs(G, edges\u001b[39m=\u001b[39;49m\u001b[39mFalse\u001b[39;49;00m, node_geometry\u001b[39m=\u001b[39;49m\u001b[39mFalse\u001b[39;49;00m)[[\u001b[39m\"\u001b[39m\u001b[39mx\u001b[39m\u001b[39m\"\u001b[39m, \u001b[39m\"\u001b[39m\u001b[39my\u001b[39m\u001b[39m\"\u001b[39m]]\n\u001b[0;32m    206\u001b[0m \u001b[39mif\u001b[39;00m projection\u001b[39m.\u001b[39mis_projected(G\u001b[39m.\u001b[39mgraph[\u001b[39m\"\u001b[39m\u001b[39mcrs\u001b[39m\u001b[39m\"\u001b[39m]):\n\u001b[0;32m    207\u001b[0m     \u001b[39m# if projected, use k-d tree for euclidean nearest-neighbor search\u001b[39;00m\n\u001b[0;32m    208\u001b[0m     \u001b[39mif\u001b[39;00m cKDTree \u001b[39mis\u001b[39;00m \u001b[39mNone\u001b[39;00m:  \u001b[39m# pragma: no cover\u001b[39;00m\n",
      "File \u001b[1;32mc:\\Users\\ygrin\\anaconda3\\envs\\spatial\\lib\\site-packages\\osmnx\\utils_graph.py:58\u001b[0m, in \u001b[0;36mgraph_to_gdfs\u001b[1;34m(G, nodes, edges, node_geometry, fill_edge_geometry)\u001b[0m\n\u001b[0;32m     55\u001b[0m     \u001b[39melse\u001b[39;00m:\n\u001b[0;32m     56\u001b[0m         gdf_nodes \u001b[39m=\u001b[39m gpd\u001b[39m.\u001b[39mGeoDataFrame(data, index\u001b[39m=\u001b[39mnodes)\n\u001b[1;32m---> 58\u001b[0m     gdf_nodes\u001b[39m.\u001b[39;49mindex\u001b[39m.\u001b[39;49mrename(\u001b[39m\"\u001b[39;49m\u001b[39mosmid\u001b[39;49m\u001b[39m\"\u001b[39;49m, inplace\u001b[39m=\u001b[39;49m\u001b[39mTrue\u001b[39;49;00m)\n\u001b[0;32m     59\u001b[0m     utils\u001b[39m.\u001b[39mlog(\u001b[39m\"\u001b[39m\u001b[39mCreated nodes GeoDataFrame from graph\u001b[39m\u001b[39m\"\u001b[39m)\n\u001b[0;32m     61\u001b[0m \u001b[39mif\u001b[39;00m edges:\n",
      "File \u001b[1;32mc:\\Users\\ygrin\\anaconda3\\envs\\spatial\\lib\\site-packages\\pandas\\util\\_decorators.py:331\u001b[0m, in \u001b[0;36mdeprecate_nonkeyword_arguments.<locals>.decorate.<locals>.wrapper\u001b[1;34m(*args, **kwargs)\u001b[0m\n\u001b[0;32m    325\u001b[0m \u001b[39mif\u001b[39;00m \u001b[39mlen\u001b[39m(args) \u001b[39m>\u001b[39m num_allow_args:\n\u001b[0;32m    326\u001b[0m     warnings\u001b[39m.\u001b[39mwarn(\n\u001b[0;32m    327\u001b[0m         msg\u001b[39m.\u001b[39mformat(arguments\u001b[39m=\u001b[39m_format_argument_list(allow_args)),\n\u001b[0;32m    328\u001b[0m         \u001b[39mFutureWarning\u001b[39;00m,\n\u001b[0;32m    329\u001b[0m         stacklevel\u001b[39m=\u001b[39mfind_stack_level(),\n\u001b[0;32m    330\u001b[0m     )\n\u001b[1;32m--> 331\u001b[0m \u001b[39mreturn\u001b[39;00m func(\u001b[39m*\u001b[39margs, \u001b[39m*\u001b[39m\u001b[39m*\u001b[39mkwargs)\n",
      "File \u001b[1;32mc:\\Users\\ygrin\\anaconda3\\envs\\spatial\\lib\\site-packages\\pandas\\core\\indexes\\multi.py:3821\u001b[0m, in \u001b[0;36mMultiIndex.set_names\u001b[1;34m(self, names, level, inplace)\u001b[0m\n\u001b[0;32m   3819\u001b[0m \u001b[39m@deprecate_nonkeyword_arguments\u001b[39m(version\u001b[39m=\u001b[39m\u001b[39mNone\u001b[39;00m, allowed_args\u001b[39m=\u001b[39m[\u001b[39m\"\u001b[39m\u001b[39mself\u001b[39m\u001b[39m\"\u001b[39m, \u001b[39m\"\u001b[39m\u001b[39mnames\u001b[39m\u001b[39m\"\u001b[39m])\n\u001b[0;32m   3820\u001b[0m \u001b[39mdef\u001b[39;00m \u001b[39mset_names\u001b[39m(\u001b[39mself\u001b[39m, names, level\u001b[39m=\u001b[39m\u001b[39mNone\u001b[39;00m, inplace: \u001b[39mbool\u001b[39m \u001b[39m=\u001b[39m \u001b[39mFalse\u001b[39;00m) \u001b[39m-\u001b[39m\u001b[39m>\u001b[39m MultiIndex \u001b[39m|\u001b[39m \u001b[39mNone\u001b[39;00m:\n\u001b[1;32m-> 3821\u001b[0m     \u001b[39mreturn\u001b[39;00m \u001b[39msuper\u001b[39;49m()\u001b[39m.\u001b[39;49mset_names(names\u001b[39m=\u001b[39;49mnames, level\u001b[39m=\u001b[39;49mlevel, inplace\u001b[39m=\u001b[39;49minplace)\n",
      "File \u001b[1;32mc:\\Users\\ygrin\\anaconda3\\envs\\spatial\\lib\\site-packages\\pandas\\util\\_decorators.py:331\u001b[0m, in \u001b[0;36mdeprecate_nonkeyword_arguments.<locals>.decorate.<locals>.wrapper\u001b[1;34m(*args, **kwargs)\u001b[0m\n\u001b[0;32m    325\u001b[0m \u001b[39mif\u001b[39;00m \u001b[39mlen\u001b[39m(args) \u001b[39m>\u001b[39m num_allow_args:\n\u001b[0;32m    326\u001b[0m     warnings\u001b[39m.\u001b[39mwarn(\n\u001b[0;32m    327\u001b[0m         msg\u001b[39m.\u001b[39mformat(arguments\u001b[39m=\u001b[39m_format_argument_list(allow_args)),\n\u001b[0;32m    328\u001b[0m         \u001b[39mFutureWarning\u001b[39;00m,\n\u001b[0;32m    329\u001b[0m         stacklevel\u001b[39m=\u001b[39mfind_stack_level(),\n\u001b[0;32m    330\u001b[0m     )\n\u001b[1;32m--> 331\u001b[0m \u001b[39mreturn\u001b[39;00m func(\u001b[39m*\u001b[39margs, \u001b[39m*\u001b[39m\u001b[39m*\u001b[39mkwargs)\n",
      "File \u001b[1;32mc:\\Users\\ygrin\\anaconda3\\envs\\spatial\\lib\\site-packages\\pandas\\core\\indexes\\base.py:1932\u001b[0m, in \u001b[0;36mIndex.set_names\u001b[1;34m(self, names, level, inplace)\u001b[0m\n\u001b[0;32m   1929\u001b[0m     \u001b[39mraise\u001b[39;00m \u001b[39mTypeError\u001b[39;00m(\u001b[39m\"\u001b[39m\u001b[39mNames must be a string when a single level is provided.\u001b[39m\u001b[39m\"\u001b[39m)\n\u001b[0;32m   1931\u001b[0m \u001b[39melif\u001b[39;00m \u001b[39mnot\u001b[39;00m is_list_like(names) \u001b[39mand\u001b[39;00m level \u001b[39mis\u001b[39;00m \u001b[39mNone\u001b[39;00m \u001b[39mand\u001b[39;00m \u001b[39mself\u001b[39m\u001b[39m.\u001b[39mnlevels \u001b[39m>\u001b[39m \u001b[39m1\u001b[39m:\n\u001b[1;32m-> 1932\u001b[0m     \u001b[39mraise\u001b[39;00m \u001b[39mTypeError\u001b[39;00m(\u001b[39m\"\u001b[39m\u001b[39mMust pass list-like as `names`.\u001b[39m\u001b[39m\"\u001b[39m)\n\u001b[0;32m   1934\u001b[0m \u001b[39melif\u001b[39;00m is_dict_like(names) \u001b[39mand\u001b[39;00m \u001b[39mnot\u001b[39;00m \u001b[39misinstance\u001b[39m(\u001b[39mself\u001b[39m, ABCMultiIndex):\n\u001b[0;32m   1935\u001b[0m     \u001b[39mraise\u001b[39;00m \u001b[39mTypeError\u001b[39;00m(\u001b[39m\"\u001b[39m\u001b[39mCan only pass dict-like as `names` for MultiIndex.\u001b[39m\u001b[39m\"\u001b[39m)\n",
      "\u001b[1;31mTypeError\u001b[0m: Must pass list-like as `names`."
     ]
    }
   ],
   "source": [
    "shortest_dist = get_shortest_distance_park(point_of_interest_file=test_path + \"Test_single_home_location.gpkg\", buffer_dist=500, \n",
    "                                           park_vector_file=None, network_file=test_path + \"test_network.gpkg\", network_type=None, \n",
    "                                           output_dir=os.getcwd())"
   ]
  },
  {
   "cell_type": "code",
   "execution_count": 66,
   "metadata": {},
   "outputs": [],
   "source": [
    "test_network = gpd.read_file(test_path + \"test_network_shp.shp\").to_crs(\"EPSG:27700\")\n",
    "test_network_graph = momepy.gdf_to_nx(test_network).to_directed()"
   ]
  },
  {
   "cell_type": "code",
   "execution_count": 33,
   "metadata": {},
   "outputs": [],
   "source": [
    "epsg_transformer = pyproj.Transformer.from_crs(\"epsg:27700\", \"epsg:4326\")\n",
    "latlon = epsg_transformer.transform(single_point['geometry'].x, single_point['geometry'].y) # Transform point geometry into latlon for OSMnx\n",
    "network_osmnx = ox.graph_from_point(latlon, dist=500, network_type='walk')"
   ]
  }
 ],
 "metadata": {
  "kernelspec": {
   "display_name": "spatial",
   "language": "python",
   "name": "python3"
  },
  "language_info": {
   "codemirror_mode": {
    "name": "ipython",
    "version": 3
   },
   "file_extension": ".py",
   "mimetype": "text/x-python",
   "name": "python",
   "nbconvert_exporter": "python",
   "pygments_lexer": "ipython3",
   "version": "3.10.10"
  },
  "orig_nbformat": 4
 },
 "nbformat": 4,
 "nbformat_minor": 2
}
